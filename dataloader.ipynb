{
 "cells": [
  {
   "cell_type": "code",
   "execution_count": 11,
   "metadata": {},
   "outputs": [],
   "source": [
    "import numpy as np\n",
    "import nibabel as nib\n",
    "import matplotlib.pyplot as plt\n",
    "import os"
   ]
  },
  {
   "cell_type": "code",
   "execution_count": 4,
   "metadata": {},
   "outputs": [],
   "source": [
    "def load_nifti(file_path):\n",
    "    return nib.load(file_path)"
   ]
  },
  {
   "cell_type": "code",
   "execution_count": 5,
   "metadata": {},
   "outputs": [],
   "source": [
    "def get_center_slice(img):\n",
    "    #img is a Nifti1Image object\n",
    "    data = img.get_fdata()\n",
    "    center = data.shape[2] // 2     #Assuming the third dimension is the axial dimension\n",
    "    return data[:, :, center]"
   ]
  },
  {
   "cell_type": "code",
   "execution_count": 20,
   "metadata": {},
   "outputs": [],
   "source": [
    "def plot_slices(mri_slice, seg_slice, show=True, save_path=None):\n",
    "    fig, ax = plt.subplots(1, 2, figsize=(12, 6))\n",
    "    ax[0].imshow(mri_slice.T, cmap='gray', origin='lower')\n",
    "    ax[1].imshow(mri_slice.T, cmap='gray', origin='lower')\n",
    "    ax[1].imshow(seg_slice.T, cmap='jet', alpha = 0.5, origin='lower')      #Overlay with transparency\n",
    "\n",
    "    if save_path:\n",
    "        \n",
    "        plt.savefig(save_path)  # Save the figure to the specified path\n",
    "\n",
    "    if show:\n",
    "        plt.show()      # Show the plot if requested\n",
    "    else:\n",
    "        plt.close(fig)  # Only close the figure if not showing it"
   ]
  },
  {
   "cell_type": "code",
   "execution_count": 21,
   "metadata": {},
   "outputs": [],
   "source": [
    "def process_mri_and_segmentation(mri_path, seg_path, export_dir=None):\n",
    "    mri_img = load_nifti(mri_path)\n",
    "    seg_img = load_nifti(seg_path)\n",
    "\n",
    "    mri_slice = get_center_slice(mri_img)\n",
    "    seg_slice = get_center_slice(seg_img)\n",
    "\n",
    "     # If export directory is specified, save the images\n",
    "    if export_dir:\n",
    "        if not os.path.exists(export_dir):\n",
    "            os.makedirs(export_dir)\n",
    "         # Extract the base name of the MRI file without the file extension\n",
    "        base_name = os.path.splitext(os.path.basename(mri_path))[0]\n",
    "        save_path = os.path.join(export_dir, f'{base_name}_center_slice.png')\n",
    "        plot_slices(mri_slice, seg_slice, show=True, save_path=save_path)\n",
    "    else:    \n",
    "        plot_slices(mri_slice, seg_slice)\n",
    "\n",
    "    return{\n",
    "        \"mri_slice\":mri_slice,\n",
    "        \"segmentation_slice\":seg_slice\n",
    "\n",
    "    }"
   ]
  },
  {
   "cell_type": "code",
   "execution_count": 22,
   "metadata": {},
   "outputs": [],
   "source": [
    "#Example usage\n",
    "mri_path =  '/media/DATA/farid_ma/dev/datasets/ASNR-MICCAI-BraTS2023-GLI-Challenge/ASNR-MICCAI-BraTS2023-GLI-Challenge-TrainingData/BraTS-GLI-00002-000/BraTS-GLI-00002-000-t2w.nii.gz'\n",
    "seg_path = '/media/DATA/farid_ma/dev/datasets/ASNR-MICCAI-BraTS2023-GLI-Challenge/ASNR-MICCAI-BraTS2023-GLI-Challenge-TrainingData/BraTS-GLI-00002-000/BraTS-GLI-00002-000-seg.nii.gz'\n",
    "export_path = '/media/DATA/farid_ma/dev/datasets/ASNR-MICCAI-BraTS2023-GLI-Challenge/ASNR-MICCAI-BraTS2023-GLI-Challenge-TrainingData/BraTS-GLI-00002-000/'\n",
    "result = process_mri_and_segmentation(mri_path, seg_path, export_path)"
   ]
  },
  {
   "cell_type": "code",
   "execution_count": null,
   "metadata": {},
   "outputs": [],
   "source": []
  },
  {
   "cell_type": "code",
   "execution_count": null,
   "metadata": {},
   "outputs": [],
   "source": []
  }
 ],
 "metadata": {
  "kernelspec": {
   "display_name": "mc_softseg_env",
   "language": "python",
   "name": "python3"
  },
  "language_info": {
   "codemirror_mode": {
    "name": "ipython",
    "version": 3
   },
   "file_extension": ".py",
   "mimetype": "text/x-python",
   "name": "python",
   "nbconvert_exporter": "python",
   "pygments_lexer": "ipython3",
   "version": "3.11.7"
  }
 },
 "nbformat": 4,
 "nbformat_minor": 2
}
