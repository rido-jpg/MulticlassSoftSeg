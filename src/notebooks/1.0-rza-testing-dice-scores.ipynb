{
 "cells": [
  {
   "cell_type": "code",
   "execution_count": 7,
   "metadata": {},
   "outputs": [],
   "source": [
    "import torchmetrics\n",
    "import torchmetrics.functional as mF\n",
    "import torch\n",
    "from monai.losses import DiceLoss\n",
    "\n",
    "dsc_loss_w = 1.0\n",
    "\n",
    "Dice = torchmetrics.Dice()\n",
    "DiceFG = torchmetrics.Dice(ignore_index=0) #ignore_index=0 means we ignore the background class\n",
    "# MonaiDiceLoss = \n",
    "# nnUnetDiceLoss = \n"
   ]
  },
  {
   "cell_type": "code",
   "execution_count": 12,
   "metadata": {},
   "outputs": [],
   "source": [
    "# Creating Dummy Test Tensors for testing of same format as in the model [B, C, H, W, D]\n",
    "# B = Batch Size, C = Number of Classes, H = Height, W = Width, D = Depth\n",
    "# Example with Batch Size 1, 4 Classes, Height 3, Width 3, Depth 3\n",
    "n_classes = 4\n",
    "preds = torch.tensor([[0, 1, 1], [1, 2, 0], [1, 2, 0]])\n",
    "masks = torch.tensor([[1, 2, 3], [0, 1, 1], [0, 0, 1]])"
   ]
  },
  {
   "cell_type": "code",
   "execution_count": 8,
   "metadata": {},
   "outputs": [],
   "source": [
    "# Testing with example tensors from terminal\n",
    "# unique values in masks: [0 2 3]\n",
    "# unique values in preds: [0 2]\n",
    "n_classes = 4\n",
    "preds = torch.tensor([[0, 0, 2], [2, 2, 3], [0, 2, 0]])\n",
    "masks = torch.tensor([[0, 0, 2], [2, 2, 0], [0, 2, 2]])"
   ]
  },
  {
   "cell_type": "code",
   "execution_count": 9,
   "metadata": {},
   "outputs": [
    {
     "name": "stdout",
     "output_type": "stream",
     "text": [
      "tensor([0.7500,    nan, 0.8889, 0.0000])\n"
     ]
    }
   ],
   "source": [
    "dice_p_cls = mF.dice(preds, masks, average=None, num_classes=n_classes) # average=None returns dice per class\n",
    "print(dice_p_cls)\n",
    "\n",
    "# -> dice for class 1 should be 1 as predictions didn't contain the class which was also absent in the ground truth"
   ]
  },
  {
   "cell_type": "code",
   "execution_count": 13,
   "metadata": {},
   "outputs": [
    {
     "name": "stdout",
     "output_type": "stream",
     "text": [
      "Dice Score:  tensor(0.)\n",
      "Dice Score FG:  tensor(0.)\n",
      "Dice Score per Class:  tensor([0., 0., 0., 0.])\n",
      "Dice Score ET:  tensor(0.)\n",
      "Dice Score TC:  tensor(0.2222)\n",
      "Dice Score WT:  tensor(0.5000)\n"
     ]
    }
   ],
   "source": [
    "# Dice Scores:\n",
    "dice = mF.dice(preds, masks)\n",
    "diceFG = mF.dice(preds, masks, ignore_index=0)\n",
    "dice_p_cls = mF.dice(preds, masks, average=None, num_classes=n_classes) # average=None returns dice per class\n",
    "\n",
    "# ET (Enhancing Tumor): label 3\n",
    "dice_ET = mF.dice((preds == 3), (masks == 3), ignore_index=0)\n",
    "\n",
    "# TC(Tumor Core): ET + NCR = label 1 + label 3\n",
    "dice_TC = mF.dice((preds == 1) | (preds == 3), (masks == 1) | (masks == 3), ignore_index=0)\n",
    "\n",
    "# WT (Whole Tumor): TC + ED = label 1 + label 2 + label 3\n",
    "dice_WT = mF.dice((preds > 0), (masks > 0), ignore_index=0)\n",
    "\n",
    "print(\"Dice Score: \", dice)\n",
    "print(\"Dice Score FG: \", diceFG)\n",
    "print(\"Dice Score per Class: \", dice_p_cls)\n",
    "print(\"Dice Score ET: \", dice_ET)\n",
    "print(\"Dice Score TC: \", dice_TC)\n",
    "print(\"Dice Score WT: \", dice_WT)"
   ]
  },
  {
   "cell_type": "code",
   "execution_count": 7,
   "metadata": {},
   "outputs": [
    {
     "name": "stdout",
     "output_type": "stream",
     "text": [
      "Dice ET Loss:  tensor(0.)\n",
      "Dice TC Loss:  tensor(0.1481)\n",
      "Dice WT Loss:  tensor(0.0741)\n",
      "Dice Loss:  tensor(0.4444)\n"
     ]
    }
   ],
   "source": [
    "#Dice Losses\n",
    "# Brats Dice Loss (Sum of dice_ET, dice_TC, dice_WT divided by 3)\n",
    "dice_ET_loss = (1 - mF.dice((preds == 3), (masks == 3))) * dsc_loss_w / 3\n",
    "dice_TC_loss = (1 - mF.dice((preds == 1) | (preds == 3), (masks == 1) | (masks == 3)) ) * dsc_loss_w / 3\n",
    "dice_WT_loss = (1 - mF.dice((preds > 0), (masks > 0))) * dsc_loss_w / 3\n",
    "\n",
    "dice_loss = (1-mF.dice(preds, masks)) * dsc_loss_w\n",
    "\n",
    "\n",
    "\n",
    "print(\"Dice ET Loss: \", dice_ET_loss)\n",
    "print(\"Dice TC Loss: \", dice_TC_loss)\n",
    "print(\"Dice WT Loss: \", dice_WT_loss)\n",
    "print(\"Dice Loss: \", dice_loss)"
   ]
  },
  {
   "cell_type": "code",
   "execution_count": null,
   "metadata": {},
   "outputs": [],
   "source": []
  }
 ],
 "metadata": {
  "kernelspec": {
   "display_name": "multiclass_softseg",
   "language": "python",
   "name": "python3"
  },
  "language_info": {
   "codemirror_mode": {
    "name": "ipython",
    "version": 3
   },
   "file_extension": ".py",
   "mimetype": "text/x-python",
   "name": "python",
   "nbconvert_exporter": "python",
   "pygments_lexer": "ipython3",
   "version": "3.11.9"
  }
 },
 "nbformat": 4,
 "nbformat_minor": 2
}
