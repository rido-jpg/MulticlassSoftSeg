{
 "cells": [
  {
   "cell_type": "markdown",
   "metadata": {},
   "source": [
    "# Imports"
   ]
  },
  {
   "cell_type": "code",
   "execution_count": 1,
   "metadata": {},
   "outputs": [],
   "source": [
    "import os\n",
    "import sys\n",
    "from pathlib import Path\n",
    "\n",
    "current_dir = os.getcwd()\n",
    "\n",
    "file = Path(current_dir).resolve()\n",
    "sys.path.append(str(file.parents[0]))"
   ]
  },
  {
   "cell_type": "code",
   "execution_count": 5,
   "metadata": {},
   "outputs": [],
   "source": [
    "import torch\n",
    "import torch.nn.functional as F\n",
    "import numpy as np\n",
    "# from data.bids_dataset import BidsDataModule"
   ]
  },
  {
   "cell_type": "markdown",
   "metadata": {},
   "source": [
    "# Test on Dummy GT"
   ]
  },
  {
   "cell_type": "code",
   "execution_count": 11,
   "metadata": {},
   "outputs": [
    {
     "name": "stdout",
     "output_type": "stream",
     "text": [
      "torch.Size([2, 1, 256, 256, 256])\n",
      "[0 1]\n",
      "torch.int64\n"
     ]
    }
   ],
   "source": [
    "gt =(torch.rand((2,1,256,256,256)) > 0.5).long()\n",
    "print(gt.shape)\n",
    "print(np.unique(gt))"
   ]
  },
  {
   "cell_type": "code",
   "execution_count": 19,
   "metadata": {},
   "outputs": [
    {
     "name": "stdout",
     "output_type": "stream",
     "text": [
      "torch.Size([2, 1, 256, 256, 256])\n",
      "torch.Size([2, 256, 256, 256])\n",
      "torch.Size([2, 256, 256, 256, 2])\n",
      "torch.Size([2, 2, 256, 256, 256])\n"
     ]
    }
   ],
   "source": [
    "squeezed_gt = gt.squeeze(dim=1)\n",
    "oh_gt = F.one_hot(squeezed_gt, num_classes=2)\n",
    "correctly_formatted_oh_gt = oh_gt.permute(0, 4, 1, 2, 3)\n",
    "\n",
    "print(gt.shape)                         # shape (B,1,H,W,D)\n",
    "print(squeezed_gt.shape)                # shape (B,H,W,D)\n",
    "print(oh_gt.shape)                      # shape (B,H,W,D,C)\n",
    "print(correctly_formatted_oh_gt.shape)  # shape (B,C,H,W,D)"
   ]
  },
  {
   "cell_type": "markdown",
   "metadata": {},
   "source": [
    "# Get GT from Bids Data Module"
   ]
  },
  {
   "cell_type": "code",
   "execution_count": null,
   "metadata": {},
   "outputs": [],
   "source": []
  }
 ],
 "metadata": {
  "kernelspec": {
   "display_name": "multiclass_softseg",
   "language": "python",
   "name": "python3"
  },
  "language_info": {
   "codemirror_mode": {
    "name": "ipython",
    "version": 3
   },
   "file_extension": ".py",
   "mimetype": "text/x-python",
   "name": "python",
   "nbconvert_exporter": "python",
   "pygments_lexer": "ipython3",
   "version": "3.11.6"
  }
 },
 "nbformat": 4,
 "nbformat_minor": 2
}
