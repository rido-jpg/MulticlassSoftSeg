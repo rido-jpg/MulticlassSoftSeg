{
 "cells": [
  {
   "cell_type": "code",
   "execution_count": 2,
   "metadata": {},
   "outputs": [],
   "source": [
    "import os\n",
    "import sys\n",
    "from pathlib import Path\n",
    "\n",
    "current_dir = os.getcwd()\n",
    "file = Path(current_dir).resolve()\n",
    "sys.path.append(str(file.parents[0]))\n",
    "sys.path.append(str(file.parents[1]))\n",
    "sys.path.append(str(file.parents[2]))\n",
    "base_dir = Path(current_dir).resolve().parents[0]\n",
    "src_path = base_dir / 'src'"
   ]
  },
  {
   "cell_type": "code",
   "execution_count": 3,
   "metadata": {},
   "outputs": [],
   "source": [
    "from data.bids_dataset import BidsDataset, BidsDataModule, contrasts\n",
    "import torch"
   ]
  },
  {
   "cell_type": "code",
   "execution_count": 4,
   "metadata": {},
   "outputs": [],
   "source": [
    "# Parameters\n",
    "base_data_dir = '/home/student/farid_ma/dev/multiclass_softseg/MulticlassSoftSeg/data/external/ASNR-MICCAI-BraTS2023-GLI-Challenge/Sample-Subset'\n",
    "train_data_dir = base_data_dir + '/train'\n",
    "resize = (200, 200, 152) # resize the input images to this size\n",
    "brats_keys = ['img', 'seg']\n",
    "n_classes = 4\n",
    "out_channels = n_classes    # as we don't have intermediate feature maps, our output are the final class predictions\n",
    "img_key = brats_keys[0]\n",
    "format = 'fnio'\n",
    "do2D = False \n",
    "batch_size = 1\n",
    "\n",
    "if n_classes == 2:\n",
    "    binary = True\n",
    "else:\n",
    "    binary = False"
   ]
  },
  {
   "cell_type": "markdown",
   "metadata": {},
   "source": [
    "### Testing Stacking Torch Tensors with different BidsDataset instances"
   ]
  },
  {
   "cell_type": "code",
   "execution_count": 5,
   "metadata": {},
   "outputs": [
    {
     "data": {
      "text/plain": [
       "['t1c', 't1n', 't2f', 't2w', 'seg']"
      ]
     },
     "execution_count": 5,
     "metadata": {},
     "output_type": "execute_result"
    }
   ],
   "source": [
    "contrasts"
   ]
  },
  {
   "cell_type": "code",
   "execution_count": 34,
   "metadata": {},
   "outputs": [],
   "source": [
    "t1c_ds = BidsDataset(\n",
    "    data_dir=train_data_dir,\n",
    "    prefix='BraTS-GLI',\n",
    "    contrast=contrasts[0],\n",
    "    suffix = format,\n",
    "    do2D=do2D,\n",
    "    binary=binary,\n",
    "    transform=None,\n",
    "    resize=resize,\n",
    "    )\n",
    "\n",
    "t1n_ds = BidsDataset(\n",
    "    data_dir=train_data_dir,\n",
    "    prefix='BraTS-GLI',\n",
    "    contrast=contrasts[1],\n",
    "    suffix = format,\n",
    "    do2D=do2D,\n",
    "    binary=binary,\n",
    "    transform=None,\n",
    "    resize=resize,\n",
    "    )\n",
    "\n",
    "t2f_ds = BidsDataset(\n",
    "    data_dir=train_data_dir,\n",
    "    prefix='BraTS-GLI',\n",
    "    contrast=contrasts[2],\n",
    "    suffix = format,\n",
    "    do2D=do2D,\n",
    "    binary=binary,\n",
    "    transform=None,\n",
    "    resize=resize,\n",
    "    )\n",
    "\n",
    "t2w_ds = BidsDataset(\n",
    "    data_dir=train_data_dir,\n",
    "    prefix='BraTS-GLI',\n",
    "    contrast=contrasts[3],\n",
    "    suffix = format,\n",
    "    do2D=do2D,\n",
    "    binary=binary,\n",
    "    transform=None,\n",
    "    resize=resize,\n",
    "    )"
   ]
  },
  {
   "cell_type": "code",
   "execution_count": 35,
   "metadata": {},
   "outputs": [],
   "source": [
    "test_idx = 23\n",
    "\n",
    "t1c_batch = t1c_ds[test_idx]\n",
    "t1c_img = t1c_batch['img']\n",
    "\n",
    "t1n_batch = t1n_ds[test_idx]\n",
    "t1n_img = t1n_batch['img']\n",
    "\n",
    "t2f_batch = t2f_ds[test_idx]\n",
    "t2f_img = t2f_batch['img']\n",
    "\n",
    "t2w_batch = t2w_ds[test_idx]\n",
    "t2w_img = t2w_batch['img']\n",
    "\n",
    "mask = t1c_batch['seg']"
   ]
  },
  {
   "cell_type": "code",
   "execution_count": 36,
   "metadata": {},
   "outputs": [
    {
     "name": "stdout",
     "output_type": "stream",
     "text": [
      "image shape: torch.Size([1, 200, 200, 152]); mask shape: torch.Size([1, 200, 200, 152])\n",
      "image.dtype: torch.float32; mask.dtype: torch.int64\n"
     ]
    }
   ],
   "source": [
    "print(f\"image shape: {t1c_img.shape}; mask shape: {mask.shape}\")\n",
    "print(f\"image.dtype: {t1c_img.dtype}; mask.dtype: {mask.dtype}\")"
   ]
  },
  {
   "cell_type": "code",
   "execution_count": 37,
   "metadata": {},
   "outputs": [],
   "source": [
    "stacked_img_tensor = torch.cat([t1c_img, t1n_img, t2f_img, t2w_img], dim=0)"
   ]
  },
  {
   "cell_type": "code",
   "execution_count": 38,
   "metadata": {},
   "outputs": [
    {
     "name": "stdout",
     "output_type": "stream",
     "text": [
      "stacked_img_tensor shape: torch.Size([4, 200, 200, 152])\n",
      "stacked_img_tensor dtype: torch.float32\n"
     ]
    }
   ],
   "source": [
    "print(f\"stacked_img_tensor shape: {stacked_img_tensor.shape}\")\n",
    "print(f\"stacked_img_tensor dtype: {stacked_img_tensor.dtype}\")"
   ]
  },
  {
   "cell_type": "markdown",
   "metadata": {},
   "source": [
    "### Testing stacked Torch tensor with Multimodal MRI straight as output from BidsDataset"
   ]
  },
  {
   "cell_type": "code",
   "execution_count": 6,
   "metadata": {},
   "outputs": [],
   "source": [
    "test_multimodal_ds = BidsDataset(\n",
    "    data_dir=train_data_dir,\n",
    "    prefix='BraTS-GLI',\n",
    "    contrast='multimodal',\n",
    "    suffix = format,\n",
    "    do2D=do2D,\n",
    "    binary=binary,\n",
    "    transform=None,\n",
    "    resize=resize,\n",
    "    )"
   ]
  },
  {
   "cell_type": "code",
   "execution_count": 7,
   "metadata": {},
   "outputs": [],
   "source": [
    "test_idx = 23\n",
    "sample_batch = test_multimodal_ds[test_idx]\n",
    "\n",
    "sample_img = sample_batch['img']\n",
    "sample_mask = sample_batch['seg']"
   ]
  },
  {
   "cell_type": "code",
   "execution_count": 8,
   "metadata": {},
   "outputs": [
    {
     "name": "stdout",
     "output_type": "stream",
     "text": [
      "sample_img shape: torch.Size([4, 200, 200, 152]); sample_mask shape: torch.Size([1, 200, 200, 152])\n"
     ]
    }
   ],
   "source": [
    "print(f\"sample_img shape: {sample_img.shape}; sample_mask shape: {sample_mask.shape}\")"
   ]
  },
  {
   "cell_type": "markdown",
   "metadata": {},
   "source": [
    "### Testing Output of DataModule"
   ]
  },
  {
   "cell_type": "markdown",
   "metadata": {},
   "source": []
  }
 ],
 "metadata": {
  "kernelspec": {
   "display_name": "multiclass_softseg",
   "language": "python",
   "name": "python3"
  },
  "language_info": {
   "codemirror_mode": {
    "name": "ipython",
    "version": 3
   },
   "file_extension": ".py",
   "mimetype": "text/x-python",
   "name": "python",
   "nbconvert_exporter": "python",
   "pygments_lexer": "ipython3",
   "version": "3.11.9"
  }
 },
 "nbformat": 4,
 "nbformat_minor": 2
}
